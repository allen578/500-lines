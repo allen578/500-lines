{
 "cells": [
  {
   "cell_type": "code",
   "execution_count": 9,
   "metadata": {},
   "outputs": [],
   "source": [
    "what_to_execute = {\n",
    "    \"instructions\" :[ (\"LOAD_VALUE\", 0),\n",
    "                      (\"LOAD_VALUE\", 1),\n",
    "                      (\"ADD_TWO_VALUES\", None),\n",
    "                      (\"LOAD_VALUE\", 2),\n",
    "                      (\"ADD_TWO_VALUES\", None),\n",
    "                      (\"PRINT_ANSWER\", None)\n",
    "                    ],\n",
    "    \"numbers\" : [7, 5, 3]}"
   ]
  },
  {
   "cell_type": "code",
   "execution_count": 10,
   "metadata": {},
   "outputs": [],
   "source": [
    "class Interpreter:\n",
    "    def __init__(self):\n",
    "        self.stack = []\n",
    "        \n",
    "    # 加载数据\n",
    "    def LOAD_VALUE(self, number):\n",
    "        self.stack.append(number)\n",
    "    \n",
    "    # 打印结果\n",
    "    def PRINT_ANSWER(self):\n",
    "        answer = self.stack.pop()\n",
    "        print(answer)\n",
    "        \n",
    "    # 实现stack末尾两个数相加，并将结果添加到stack中\n",
    "    # 指令是加法，自己需要实现一个加法\n",
    "    def ADD_TWO_VALUES(self):\n",
    "        first_num = self.stack.pop()\n",
    "        second_num = self.stack.pop()\n",
    "        total = first_num + second_num\n",
    "        self.stack.append(total)\n",
    "    \n",
    "    # 接受外部生成的指令，然后执行这个指令\n",
    "    def run_code(self, what_to_execute):\n",
    "        instructions = what_to_execute[\"instructions\"]\n",
    "        numbers = what_to_execute[\"numbers\"]\n",
    "        for each_step in instructions:\n",
    "            instruction, argument = each_step\n",
    "            if instruction == \"LOAD_VALUE\":\n",
    "                number = numbers[argument]\n",
    "                self.LOAD_VALUE(number)\n",
    "            elif instruction == \"ADD_TWO_VALUES\":\n",
    "                self.ADD_TWO_VALUES()\n",
    "            elif instruction == \"PRINT_ANSWER\":\n",
    "                self.PRINT_ANSWER()"
   ]
  },
  {
   "cell_type": "code",
   "execution_count": 11,
   "metadata": {},
   "outputs": [
    {
     "name": "stdout",
     "output_type": "stream",
     "text": [
      "15\n"
     ]
    }
   ],
   "source": [
    "my_interpreter = Interpreter()\n",
    "my_interpreter.run_code(what_to_execute)"
   ]
  },
  {
   "cell_type": "code",
   "execution_count": 1,
   "metadata": {},
   "outputs": [],
   "source": [
    "def cond():\n",
    "    x = 3\n",
    "    if x < 5:\n",
    "        return 'yes'\n",
    "    else:\n",
    "        return 'no'"
   ]
  },
  {
   "cell_type": "code",
   "execution_count": 2,
   "metadata": {},
   "outputs": [
    {
     "data": {
      "text/plain": [
       "b'd\\x01}\\x00|\\x00d\\x02k\\x00r\\x10d\\x03S\\x00d\\x04S\\x00d\\x00S\\x00'"
      ]
     },
     "execution_count": 2,
     "metadata": {},
     "output_type": "execute_result"
    }
   ],
   "source": [
    "cond.__code__.co_code  # 返回这个函数的字节码"
   ]
  },
  {
   "cell_type": "code",
   "execution_count": 4,
   "metadata": {},
   "outputs": [
    {
     "data": {
      "text/plain": [
       "[100,\n",
       " 1,\n",
       " 125,\n",
       " 0,\n",
       " 124,\n",
       " 0,\n",
       " 100,\n",
       " 2,\n",
       " 107,\n",
       " 0,\n",
       " 114,\n",
       " 16,\n",
       " 100,\n",
       " 3,\n",
       " 83,\n",
       " 0,\n",
       " 100,\n",
       " 4,\n",
       " 83,\n",
       " 0,\n",
       " 100,\n",
       " 0,\n",
       " 83,\n",
       " 0]"
      ]
     },
     "execution_count": 4,
     "metadata": {},
     "output_type": "execute_result"
    }
   ],
   "source": [
    "list(cond.__code__.co_code)"
   ]
  },
  {
   "cell_type": "code",
   "execution_count": 5,
   "metadata": {},
   "outputs": [
    {
     "name": "stdout",
     "output_type": "stream",
     "text": [
      "  2           0 LOAD_CONST               1 (3)\n",
      "              2 STORE_FAST               0 (x)\n",
      "\n",
      "  3           4 LOAD_FAST                0 (x)\n",
      "              6 LOAD_CONST               2 (5)\n",
      "              8 COMPARE_OP               0 (<)\n",
      "             10 POP_JUMP_IF_FALSE       16\n",
      "\n",
      "  4          12 LOAD_CONST               3 ('yes')\n",
      "             14 RETURN_VALUE\n",
      "\n",
      "  6     >>   16 LOAD_CONST               4 ('no')\n",
      "             18 RETURN_VALUE\n",
      "             20 LOAD_CONST               0 (None)\n",
      "             22 RETURN_VALUE\n"
     ]
    }
   ],
   "source": [
    "import dis\n",
    "dis.dis(cond)  # 返回字节码的解释"
   ]
  },
  {
   "cell_type": "code",
   "execution_count": 6,
   "metadata": {},
   "outputs": [
    {
     "data": {
      "text/plain": [
       "'LOAD_CONST'"
      ]
     },
     "execution_count": 6,
     "metadata": {},
     "output_type": "execute_result"
    }
   ],
   "source": [
    "dis.opname[100]"
   ]
  },
  {
   "cell_type": "code",
   "execution_count": 7,
   "metadata": {},
   "outputs": [
    {
     "data": {
      "text/plain": [
       "'STORE_FAST'"
      ]
     },
     "execution_count": 7,
     "metadata": {},
     "output_type": "execute_result"
    }
   ],
   "source": [
    "dis.opname[125]"
   ]
  },
  {
   "cell_type": "code",
   "execution_count": 8,
   "metadata": {},
   "outputs": [
    {
     "name": "stdout",
     "output_type": "stream",
     "text": [
      "  2           0 LOAD_CONST               1 (1)\n",
      "              2 STORE_FAST               0 (x)\n",
      "\n",
      "  3     >>    4 LOAD_FAST                0 (x)\n",
      "              6 LOAD_CONST               2 (5)\n",
      "              8 COMPARE_OP               0 (<)\n",
      "             10 POP_JUMP_IF_FALSE       22\n",
      "\n",
      "  4          12 LOAD_FAST                0 (x)\n",
      "             14 LOAD_CONST               1 (1)\n",
      "             16 BINARY_ADD\n",
      "             18 STORE_FAST               0 (x)\n",
      "             20 JUMP_ABSOLUTE            4\n",
      "\n",
      "  5     >>   22 LOAD_FAST                0 (x)\n",
      "             24 RETURN_VALUE\n"
     ]
    }
   ],
   "source": [
    "def loop():\n",
    "    x = 1\n",
    "    while x < 5:\n",
    "        x = x + 1\n",
    "    return x\n",
    "\n",
    "dis.dis((loop))"
   ]
  },
  {
   "cell_type": "code",
   "execution_count": 9,
   "metadata": {},
   "outputs": [],
   "source": [
    "def list_create():\n",
    "    tmp = [i for i in range(10)]\n",
    "    return tmp"
   ]
  },
  {
   "cell_type": "code",
   "execution_count": 11,
   "metadata": {},
   "outputs": [
    {
     "name": "stdout",
     "output_type": "stream",
     "text": [
      "  2           0 LOAD_CONST               1 (<code object <listcomp> at 0x000002C08CB02240, file \"C:\\Users\\Barry\\AppData\\Local\\Temp\\ipykernel_20312\\1652411864.py\", line 2>)\n",
      "              2 LOAD_CONST               2 ('list_create.<locals>.<listcomp>')\n",
      "              4 MAKE_FUNCTION            0\n",
      "              6 LOAD_GLOBAL              0 (range)\n",
      "              8 LOAD_CONST               3 (10)\n",
      "             10 CALL_FUNCTION            1\n",
      "             12 GET_ITER\n",
      "             14 CALL_FUNCTION            1\n",
      "             16 STORE_FAST               0 (tmp)\n",
      "\n",
      "  3          18 LOAD_FAST                0 (tmp)\n",
      "             20 RETURN_VALUE\n",
      "\n",
      "Disassembly of <code object <listcomp> at 0x000002C08CB02240, file \"C:\\Users\\Barry\\AppData\\Local\\Temp\\ipykernel_20312\\1652411864.py\", line 2>:\n",
      "  2           0 BUILD_LIST               0\n",
      "              2 LOAD_FAST                0 (.0)\n",
      "        >>    4 FOR_ITER                 8 (to 14)\n",
      "              6 STORE_FAST               1 (i)\n",
      "              8 LOAD_FAST                1 (i)\n",
      "             10 LIST_APPEND              2\n",
      "             12 JUMP_ABSOLUTE            4\n",
      "        >>   14 RETURN_VALUE\n"
     ]
    }
   ],
   "source": [
    "dis.dis(list_create)"
   ]
  },
  {
   "cell_type": "code",
   "execution_count": 12,
   "metadata": {},
   "outputs": [
    {
     "name": "stdout",
     "output_type": "stream",
     "text": [
      "  6           0 LOAD_CONST               1 (1)\n",
      "              2 STORE_FAST               0 (a)\n",
      "\n",
      "  7           4 LOAD_CONST               2 (2)\n",
      "              6 STORE_FAST               1 (b)\n",
      "\n",
      "  8           8 LOAD_FAST                0 (a)\n",
      "             10 LOAD_GLOBAL              0 (bar)\n",
      "             12 LOAD_FAST                1 (b)\n",
      "             14 CALL_FUNCTION            1\n",
      "             16 BINARY_ADD\n",
      "             18 RETURN_VALUE\n"
     ]
    }
   ],
   "source": [
    "def bar(y):\n",
    "    z = y + 3\n",
    "    return z\n",
    "\n",
    "def foo():\n",
    "    a = 1\n",
    "    b = 2\n",
    "    return a + bar(b)\n",
    "\n",
    "dis.dis(foo)"
   ]
  },
  {
   "cell_type": "code",
   "execution_count": 13,
   "metadata": {},
   "outputs": [
    {
     "data": {
      "text/plain": [
       "[0, 1, 2, 3, 4]"
      ]
     },
     "execution_count": 13,
     "metadata": {},
     "output_type": "execute_result"
    }
   ],
   "source": [
    "tmp = [i for i in range(10)]\n",
    "tmp[-5:] = []\n",
    "tmp"
   ]
  },
  {
   "attachments": {},
   "cell_type": "markdown",
   "metadata": {},
   "source": [
    "### 探索字节码"
   ]
  },
  {
   "attachments": {},
   "cell_type": "markdown",
   "metadata": {},
   "source": [
    "#### for 和 while 对于解释器的不同"
   ]
  },
  {
   "cell_type": "code",
   "execution_count": 19,
   "metadata": {},
   "outputs": [],
   "source": [
    "import dis\n",
    "def test1():\n",
    "    x = 0\n",
    "    for i in range(10):\n",
    "        x = x + i\n",
    "        \n",
    "    return x"
   ]
  },
  {
   "cell_type": "code",
   "execution_count": 20,
   "metadata": {},
   "outputs": [],
   "source": [
    "def test2():\n",
    "    x = 0\n",
    "    i = 0\n",
    "    while i < 10:\n",
    "        x = x + i\n",
    "        i = i + 1\n",
    "    return x"
   ]
  },
  {
   "cell_type": "code",
   "execution_count": 21,
   "metadata": {},
   "outputs": [
    {
     "name": "stdout",
     "output_type": "stream",
     "text": [
      "  3           0 LOAD_CONST               1 (0)\n",
      "              2 STORE_FAST               0 (x)\n",
      "\n",
      "  4           4 LOAD_GLOBAL              0 (range)\n",
      "              6 LOAD_CONST               2 (10)\n",
      "              8 CALL_FUNCTION            1\n",
      "             10 GET_ITER\n",
      "        >>   12 FOR_ITER                12 (to 26)\n",
      "             14 STORE_FAST               1 (i)\n",
      "\n",
      "  5          16 LOAD_FAST                0 (x)\n",
      "             18 LOAD_FAST                1 (i)\n",
      "             20 BINARY_ADD\n",
      "             22 STORE_FAST               0 (x)\n",
      "             24 JUMP_ABSOLUTE           12\n",
      "\n",
      "  7     >>   26 LOAD_FAST                0 (x)\n",
      "             28 RETURN_VALUE\n"
     ]
    }
   ],
   "source": [
    "dis.dis(test1)"
   ]
  },
  {
   "cell_type": "code",
   "execution_count": 22,
   "metadata": {},
   "outputs": [
    {
     "name": "stdout",
     "output_type": "stream",
     "text": [
      "  2           0 LOAD_CONST               1 (0)\n",
      "              2 STORE_FAST               0 (x)\n",
      "\n",
      "  3           4 LOAD_CONST               1 (0)\n",
      "              6 STORE_FAST               1 (i)\n",
      "\n",
      "  4     >>    8 LOAD_FAST                1 (i)\n",
      "             10 LOAD_CONST               2 (10)\n",
      "             12 COMPARE_OP               0 (<)\n",
      "             14 POP_JUMP_IF_FALSE       34\n",
      "\n",
      "  5          16 LOAD_FAST                0 (x)\n",
      "             18 LOAD_FAST                1 (i)\n",
      "             20 BINARY_ADD\n",
      "             22 STORE_FAST               0 (x)\n",
      "\n",
      "  6          24 LOAD_FAST                1 (i)\n",
      "             26 LOAD_CONST               3 (1)\n",
      "             28 BINARY_ADD\n",
      "             30 STORE_FAST               1 (i)\n",
      "             32 JUMP_ABSOLUTE            8\n",
      "\n",
      "  7     >>   34 LOAD_FAST                0 (x)\n",
      "             36 RETURN_VALUE\n"
     ]
    }
   ],
   "source": [
    "dis.dis(test2)"
   ]
  },
  {
   "attachments": {},
   "cell_type": "markdown",
   "metadata": {},
   "source": [
    "while 和 for 的不同在于，while使用的`COMPARE_OP`指令，而for使用的`FOR_ITER`指令"
   ]
  },
  {
   "cell_type": "code",
   "execution_count": null,
   "metadata": {},
   "outputs": [],
   "source": []
  },
  {
   "cell_type": "code",
   "execution_count": null,
   "metadata": {},
   "outputs": [],
   "source": []
  },
  {
   "cell_type": "code",
   "execution_count": null,
   "metadata": {},
   "outputs": [],
   "source": []
  }
 ],
 "metadata": {
  "kernelspec": {
   "display_name": "base",
   "language": "python",
   "name": "python3"
  },
  "language_info": {
   "codemirror_mode": {
    "name": "ipython",
    "version": 3
   },
   "file_extension": ".py",
   "mimetype": "text/x-python",
   "name": "python",
   "nbconvert_exporter": "python",
   "pygments_lexer": "ipython3",
   "version": "3.9.13"
  },
  "orig_nbformat": 4
 },
 "nbformat": 4,
 "nbformat_minor": 2
}
