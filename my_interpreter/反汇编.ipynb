{
 "cells": [
  {
   "cell_type": "code",
   "execution_count": 1,
   "metadata": {},
   "outputs": [],
   "source": [
    "import dis"
   ]
  },
  {
   "cell_type": "code",
   "execution_count": 3,
   "metadata": {},
   "outputs": [
    {
     "name": "stdout",
     "output_type": "stream",
     "text": [
      "  2           0 LOAD_CONST               1 (10)\n",
      "              2 STORE_FAST               0 (a)\n",
      "\n",
      "  3           4 LOAD_CONST               2 (20)\n",
      "              6 STORE_FAST               1 (b)\n",
      "\n",
      "  4           8 LOAD_FAST                0 (a)\n",
      "             10 LOAD_FAST                1 (b)\n",
      "             12 BINARY_ADD\n",
      "             14 STORE_FAST               2 (c)\n",
      "\n",
      "  5          16 LOAD_FAST                2 (c)\n",
      "             18 RETURN_VALUE\n"
     ]
    }
   ],
   "source": [
    "def ass_add():\n",
    "    a = 10\n",
    "    b = 20\n",
    "    c = a + b\n",
    "    return c\n",
    "\n",
    "dis.dis(ass_add)"
   ]
  },
  {
   "cell_type": "code",
   "execution_count": 23,
   "metadata": {},
   "outputs": [],
   "source": [
    "what_to_execute = {\n",
    "    \"instructions\" : (\n",
    "                    (0,     \"LOAD_CONST\",   1,    \"10\"),   # 放入CONST栈\n",
    "                    (2,     \"STORE_FAST\",   0,    \"a\"),    # 读取CONST栈，\n",
    "                    (4,     \"LOAD_CONST\",   2,    \"20\"),\n",
    "                    (6,     \"STORE_FAST\",   1,    \"b\"),\n",
    "                    (8,     \"LOAD_FAST\",    0,    \"a\"),\n",
    "                    (10,    \"LOAD_FAST\",    1,    \"b\"),\n",
    "                    (12,    \"BINARY_ADD\",   None, None),\n",
    "                    (14,    \"STORE_FAST\",   2,    \"c\"),\n",
    "                    (16,    \"LOAD_FAST\",    2,    \"c\"),\n",
    "                    (18,    \"RETURN_VALUE\", None, None)),\n",
    "\n",
    "    \"CONST\" : [0, 10, 20],       # CONST 都是从 1 开始的， 那索引0 就写成 0  吧\n",
    "    \"FAST\"  : ['a', 'b', 'c'],   # FAST  都是从 0 开始的， 存储这些变量的 str吧\n",
    "\n",
    "}"
   ]
  },
  {
   "cell_type": "code",
   "execution_count": 5,
   "metadata": {},
   "outputs": [
    {
     "name": "stdout",
     "output_type": "stream",
     "text": [
      "  2           0 LOAD_CONST               1 (10)\n",
      "              2 STORE_FAST               0 (a)\n",
      "\n",
      "  3           4 LOAD_CONST               2 (20)\n",
      "              6 STORE_FAST               1 (b)\n",
      "\n",
      "  4           8 LOAD_FAST                0 (a)\n",
      "             10 LOAD_FAST                1 (b)\n",
      "             12 BINARY_MULTIPLY\n",
      "             14 STORE_FAST               2 (c)\n",
      "\n",
      "  5          16 LOAD_FAST                2 (c)\n",
      "             18 RETURN_VALUE\n",
      "None\n"
     ]
    }
   ],
   "source": [
    "def ass_multiple():\n",
    "    a = 10\n",
    "    b = 20\n",
    "    c = a * b\n",
    "    return c\n",
    "\n",
    "print(dis.dis(ass_multiple))"
   ]
  },
  {
   "attachments": {},
   "cell_type": "markdown",
   "metadata": {},
   "source": [
    "### for循环"
   ]
  },
  {
   "cell_type": "code",
   "execution_count": 6,
   "metadata": {},
   "outputs": [
    {
     "name": "stdout",
     "output_type": "stream",
     "text": [
      "  2           0 LOAD_CONST               1 (0)\n",
      "              2 STORE_FAST               0 (x)\n",
      "\n",
      "  3           4 LOAD_GLOBAL              0 (range)\n",
      "              6 LOAD_CONST               2 (10)\n",
      "              8 CALL_FUNCTION            1\n",
      "             10 GET_ITER\n",
      "        >>   12 FOR_ITER                12 (to 26)\n",
      "             14 STORE_FAST               1 (i)\n",
      "\n",
      "  4          16 LOAD_FAST                0 (x)\n",
      "             18 LOAD_FAST                1 (i)\n",
      "             20 BINARY_ADD\n",
      "             22 STORE_FAST               0 (x)\n",
      "             24 JUMP_ABSOLUTE           12\n",
      "\n",
      "  5     >>   26 LOAD_FAST                0 (x)\n",
      "             28 RETURN_VALUE\n"
     ]
    }
   ],
   "source": [
    "def ass_forloop():\n",
    "    x = 0\n",
    "    for i in range(10):\n",
    "        x = x + i\n",
    "    return x\n",
    "\n",
    "dis.dis(ass_forloop)"
   ]
  },
  {
   "attachments": {},
   "cell_type": "markdown",
   "metadata": {},
   "source": [
    "### while循环"
   ]
  },
  {
   "cell_type": "code",
   "execution_count": 12,
   "metadata": {},
   "outputs": [
    {
     "name": "stdout",
     "output_type": "stream",
     "text": [
      "  2           0 LOAD_CONST               1 (0)\n",
      "              2 STORE_FAST               0 (x)\n",
      "\n",
      "  3     >>    4 LOAD_FAST                0 (x)\n",
      "              6 LOAD_CONST               2 (5)\n",
      "              8 COMPARE_OP               0 (<)\n",
      "             10 POP_JUMP_IF_FALSE       22\n",
      "\n",
      "  4          12 LOAD_FAST                0 (x)\n",
      "             14 LOAD_CONST               3 (1)\n",
      "             16 BINARY_ADD\n",
      "             18 STORE_FAST               0 (x)\n",
      "             20 JUMP_ABSOLUTE            4\n",
      "        >>   22 LOAD_CONST               0 (None)\n",
      "             24 RETURN_VALUE\n"
     ]
    }
   ],
   "source": [
    "def ass_while():\n",
    "    x = 0\n",
    "    while x < 5:\n",
    "        x = x + 1\n",
    "\n",
    "dis.dis(ass_while)"
   ]
  },
  {
   "cell_type": "code",
   "execution_count": 16,
   "metadata": {},
   "outputs": [
    {
     "name": "stdout",
     "output_type": "stream",
     "text": [
      "  2           0 LOAD_CONST               1 (0)\n",
      "              2 STORE_FAST               0 (x)\n",
      "\n",
      "  3           4 LOAD_CONST               2 (20)\n",
      "              6 STORE_FAST               1 (y)\n",
      "\n",
      "  4           8 LOAD_CONST               3 (100)\n",
      "             10 STORE_FAST               2 (z)\n",
      "\n",
      "  5          12 LOAD_CONST               4 ('tmp')\n",
      "             14 STORE_FAST               3 (m)\n",
      "\n",
      "  6     >>   16 LOAD_FAST                0 (x)\n",
      "             18 LOAD_CONST               5 (5)\n",
      "             20 COMPARE_OP               0 (<)\n",
      "             22 POP_JUMP_IF_FALSE       50\n",
      "\n",
      "  7          24 LOAD_FAST                0 (x)\n",
      "             26 LOAD_CONST               6 (2)\n",
      "             28 BINARY_MODULO\n",
      "             30 POP_JUMP_IF_FALSE       40\n",
      "\n",
      "  8          32 LOAD_GLOBAL              0 (print)\n",
      "             34 LOAD_FAST                0 (x)\n",
      "             36 CALL_FUNCTION            1\n",
      "             38 POP_TOP\n",
      "\n",
      "  9     >>   40 LOAD_FAST                0 (x)\n",
      "             42 LOAD_CONST               7 (1)\n",
      "             44 BINARY_ADD\n",
      "             46 STORE_FAST               0 (x)\n",
      "             48 JUMP_ABSOLUTE           16\n",
      "        >>   50 LOAD_CONST               0 (None)\n",
      "             52 RETURN_VALUE\n"
     ]
    }
   ],
   "source": [
    "def ass_if():\n",
    "    x = 0\n",
    "    y = 20\n",
    "    z = 100\n",
    "    m = \"tmp\"\n",
    "    while x < 5:\n",
    "        if x%2:\n",
    "            print(x)\n",
    "        x = x + 1\n",
    "\n",
    "dis.dis(ass_if)"
   ]
  },
  {
   "cell_type": "code",
   "execution_count": null,
   "metadata": {},
   "outputs": [],
   "source": []
  }
 ],
 "metadata": {
  "kernelspec": {
   "display_name": "base",
   "language": "python",
   "name": "python3"
  },
  "language_info": {
   "codemirror_mode": {
    "name": "ipython",
    "version": 3
   },
   "file_extension": ".py",
   "mimetype": "text/x-python",
   "name": "python",
   "nbconvert_exporter": "python",
   "pygments_lexer": "ipython3",
   "version": "3.9.13"
  },
  "orig_nbformat": 4
 },
 "nbformat": 4,
 "nbformat_minor": 2
}
